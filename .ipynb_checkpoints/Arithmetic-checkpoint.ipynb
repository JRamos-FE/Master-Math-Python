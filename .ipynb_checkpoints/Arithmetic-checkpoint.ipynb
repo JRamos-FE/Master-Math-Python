{
 "cells": [
  {
   "cell_type": "markdown",
   "id": "c23c34d6",
   "metadata": {},
   "source": [
    "<h2>Arithmetic Exercises and Review<h2>"
   ]
  },
  {
   "cell_type": "code",
   "execution_count": 1,
   "id": "a3867996",
   "metadata": {},
   "outputs": [
    {
     "data": {
      "text/plain": [
       "4.7"
      ]
     },
     "execution_count": 1,
     "metadata": {},
     "output_type": "execute_result"
    }
   ],
   "source": [
    "#Problem 1\n",
    "5 - (2/4) * (3/5)"
   ]
  },
  {
   "cell_type": "code",
   "execution_count": 2,
   "id": "6e3cede1",
   "metadata": {},
   "outputs": [
    {
     "data": {
      "text/plain": [
       "-0.030303030303030304"
      ]
     },
     "execution_count": 2,
     "metadata": {},
     "output_type": "execute_result"
    }
   ],
   "source": [
    "#Problem 2\n",
    "(4 - 5) / (3 + 5 * 6)"
   ]
  },
  {
   "cell_type": "code",
   "execution_count": 3,
   "id": "3def8e3f",
   "metadata": {},
   "outputs": [],
   "source": [
    "#Variables\n",
    "x = 7\n",
    "y = -2\n",
    "z = 5"
   ]
  },
  {
   "cell_type": "code",
   "execution_count": 4,
   "id": "dffac96f",
   "metadata": {},
   "outputs": [
    {
     "data": {
      "text/plain": [
       "42"
      ]
     },
     "execution_count": 4,
     "metadata": {},
     "output_type": "execute_result"
    }
   ],
   "source": [
    "#Problem 3\n",
    "3*x*(4+y)"
   ]
  },
  {
   "cell_type": "code",
   "execution_count": 5,
   "id": "1cd0a0ae",
   "metadata": {},
   "outputs": [
    {
     "data": {
      "text/plain": [
       "0.0"
      ]
     },
     "execution_count": 5,
     "metadata": {},
     "output_type": "execute_result"
    }
   ],
   "source": [
    "#Problem 4\n",
    "-(y)-((x+3)/z)"
   ]
  },
  {
   "cell_type": "code",
   "execution_count": 3,
   "id": "ec5d9ee6",
   "metadata": {},
   "outputs": [
    {
     "data": {
      "text/latex": [
       "$\\displaystyle 4 + 3 = 7$"
      ],
      "text/plain": [
       "<IPython.core.display.Math object>"
      ]
     },
     "metadata": {},
     "output_type": "display_data"
    }
   ],
   "source": [
    "from IPython.display import display, Math\n",
    "\n",
    "display(Math('4 + 3 = 7'))"
   ]
  },
  {
   "cell_type": "code",
   "execution_count": 8,
   "id": "acd4c8fe",
   "metadata": {},
   "outputs": [
    {
     "data": {
      "text/latex": [
       "$\\displaystyle 7 + -2 = -2 + 7$"
      ],
      "text/plain": [
       "<IPython.core.display.Math object>"
      ]
     },
     "metadata": {},
     "output_type": "display_data"
    }
   ],
   "source": [
    "display(Math(str(x) + ' + ' + str(y) + ' = ' + str(y) + ' + ' + str(x)))"
   ]
  },
  {
   "cell_type": "code",
   "execution_count": 9,
   "id": "fd756783",
   "metadata": {},
   "outputs": [
    {
     "data": {
      "text/latex": [
       "$\\displaystyle 7 + -2 = -2 + 7$"
      ],
      "text/plain": [
       "<IPython.core.display.Math object>"
      ]
     },
     "metadata": {},
     "output_type": "display_data"
    }
   ],
   "source": [
    "display(Math('%g + %g = %g + %g' %(x,y,y,x)))"
   ]
  },
  {
   "cell_type": "code",
   "execution_count": 10,
   "id": "b0fbd690",
   "metadata": {},
   "outputs": [
    {
     "data": {
      "text/latex": [
       "$\\displaystyle \\frac{4}{5} = .8$"
      ],
      "text/plain": [
       "<IPython.core.display.Math object>"
      ]
     },
     "metadata": {},
     "output_type": "display_data"
    }
   ],
   "source": [
    "display(Math('\\\\frac{4}{5} = .8'))"
   ]
  },
  {
   "cell_type": "code",
   "execution_count": 12,
   "id": "0f3e591d",
   "metadata": {},
   "outputs": [
    {
     "data": {
      "text/latex": [
       "$\\displaystyle 7 \\times -2 = -14$"
      ],
      "text/plain": [
       "<IPython.core.display.Math object>"
      ]
     },
     "metadata": {},
     "output_type": "display_data"
    }
   ],
   "source": [
    "display(Math('%g \\\\times %g = %g' %(x,y,x*y)))"
   ]
  },
  {
   "cell_type": "code",
   "execution_count": 20,
   "id": "b9828533",
   "metadata": {},
   "outputs": [
    {
     "data": {
      "text/latex": [
       "$\\displaystyle 3 \\times 7(4  -2) = 42$"
      ],
      "text/plain": [
       "<IPython.core.display.Math object>"
      ]
     },
     "metadata": {},
     "output_type": "display_data"
    }
   ],
   "source": [
    "#Problem 5\n",
    "display(Math('3 \\\\times %g(4  %g) = 42' %(x,y)))"
   ]
  },
  {
   "cell_type": "code",
   "execution_count": 21,
   "id": "7023c151",
   "metadata": {},
   "outputs": [
    {
     "data": {
      "text/latex": [
       "$\\displaystyle -2 - \\frac{7 + 3}{5} = 0$"
      ],
      "text/plain": [
       "<IPython.core.display.Math object>"
      ]
     },
     "metadata": {},
     "output_type": "display_data"
    }
   ],
   "source": [
    "#Problem 6\n",
    "display(Math('%g - \\\\frac{%g + 3}{%g} = 0' %(y, x, z)))"
   ]
  },
  {
   "cell_type": "code",
   "execution_count": 22,
   "id": "ccde5962",
   "metadata": {},
   "outputs": [
    {
     "data": {
      "text/latex": [
       "$\\displaystyle 3^2 \\times 3^4 = 3^{2 + 4}$"
      ],
      "text/plain": [
       "<IPython.core.display.Math object>"
      ]
     },
     "metadata": {},
     "output_type": "display_data"
    }
   ],
   "source": [
    "display(Math('3^2 \\\\times 3^4 = 3^{2 + 4}'))"
   ]
  },
  {
   "cell_type": "code",
   "execution_count": 23,
   "id": "d3dfa90e",
   "metadata": {},
   "outputs": [],
   "source": [
    "#Variables\n",
    "x = 5\n",
    "y = 5.1"
   ]
  },
  {
   "cell_type": "code",
   "execution_count": 28,
   "id": "82df0895",
   "metadata": {},
   "outputs": [
    {
     "data": {
      "text/latex": [
       "$\\displaystyle 5^{\\frac{3}{4}} \\times 4^{5.1} = 3933.09$"
      ],
      "text/plain": [
       "<IPython.core.display.Math object>"
      ]
     },
     "metadata": {},
     "output_type": "display_data"
    }
   ],
   "source": [
    "#Problem 7\n",
    "answer = x**(3/4) * 4**5.1\n",
    "display(Math('%g^{\\\\frac{3}{4}} \\\\times 4^{%g} = %g' %(x,y, answer)))"
   ]
  },
  {
   "cell_type": "code",
   "execution_count": 46,
   "id": "3213afbe",
   "metadata": {},
   "outputs": [
    {
     "data": {
      "text/latex": [
       "$\\displaystyle \\frac{3^3}{5^{5.1}} = 0.00735558$"
      ],
      "text/plain": [
       "<IPython.core.display.Math object>"
      ]
     },
     "metadata": {},
     "output_type": "display_data"
    }
   ],
   "source": [
    "#Problem 8\n",
    "answer = (3**3)/(x**y)\n",
    "display(Math('\\\\frac{3^3}{%g^{%g}} = %g' %(x,y,answer)))"
   ]
  },
  {
   "cell_type": "code",
   "execution_count": 48,
   "id": "edc9a810",
   "metadata": {},
   "outputs": [
    {
     "data": {
      "text/latex": [
       "$\\displaystyle 10^{5 - 4} = 10$"
      ],
      "text/plain": [
       "<IPython.core.display.Math object>"
      ]
     },
     "metadata": {},
     "output_type": "display_data"
    }
   ],
   "source": [
    "#Problem 9\n",
    "answer = 10**(x - 4)\n",
    "display(Math('10^{%g - 4} = %g' %(x,answer)))"
   ]
  },
  {
   "cell_type": "code",
   "execution_count": 56,
   "id": "e51c55a0",
   "metadata": {},
   "outputs": [
    {
     "name": "stdout",
     "output_type": "stream",
     "text": [
      "1\n",
      "2\n",
      "3\n",
      "4\n",
      "5\n",
      "6\n",
      "7\n",
      "8\n",
      "9\n",
      "10\n",
      "11\n",
      "12\n",
      "13\n",
      "14\n",
      "15\n",
      "16\n",
      "17\n",
      "18\n",
      "19\n",
      "20\n",
      "21\n",
      "22\n",
      "23\n",
      "24\n",
      "25\n",
      "26\n",
      "27\n",
      "28\n",
      "29\n",
      "30\n",
      "31\n",
      "32\n",
      "33\n",
      "34\n",
      "35\n",
      "36\n",
      "37\n",
      "38\n",
      "39\n",
      "40\n",
      "41\n",
      "42\n",
      "43\n",
      "44\n",
      "45\n",
      "46\n",
      "47\n",
      "48\n",
      "49\n",
      "50\n",
      "51\n",
      "52\n",
      "53\n",
      "54\n",
      "55\n",
      "56\n",
      "57\n",
      "58\n",
      "59\n",
      "60\n",
      "61\n",
      "62\n",
      "63\n",
      "64\n",
      "65\n",
      "66\n",
      "67\n",
      "68\n",
      "69\n",
      "70\n",
      "71\n",
      "72\n",
      "73\n",
      "74\n",
      "75\n",
      "76\n",
      "77\n",
      "78\n",
      "79\n",
      "80\n",
      "81\n",
      "82\n",
      "83\n",
      "84\n",
      "85\n",
      "86\n",
      "87\n",
      "88\n",
      "89\n",
      "90\n",
      "91\n",
      "92\n",
      "93\n",
      "94\n",
      "95\n",
      "96\n",
      "97\n",
      "98\n",
      "99\n",
      "100\n"
     ]
    }
   ],
   "source": [
    "for i in range(0,100):\n",
    "    print(i + 1)"
   ]
  },
  {
   "cell_type": "code",
   "execution_count": 61,
   "id": "d00b1d48",
   "metadata": {},
   "outputs": [
    {
     "name": "stdout",
     "output_type": "stream",
     "text": [
      "2 to the power of 0 equals 1\n",
      "2 to the power of 1 equals 2\n",
      "2 to the power of 2 equals 4\n",
      "2 to the power of 3 equals 8\n",
      "2 to the power of 4 equals 16\n",
      "2 to the power of 5 equals 32\n",
      "2 to the power of 6 equals 64\n",
      "2 to the power of 7 equals 128\n",
      "2 to the power of 8 equals 256\n",
      "2 to the power of 9 equals 512\n"
     ]
    }
   ],
   "source": [
    "#Problem 10\n",
    "for i in range(0,10):\n",
    "    print('2 to the power of ' + str(i) + ' equals ' + str(2**i))"
   ]
  },
  {
   "cell_type": "code",
   "execution_count": 63,
   "id": "5b45fb1e",
   "metadata": {},
   "outputs": [
    {
     "data": {
      "text/latex": [
       "$\\displaystyle \\frac{(4 \\times 5)}{(7 + 3)} = 2$"
      ],
      "text/plain": [
       "<IPython.core.display.Math object>"
      ]
     },
     "metadata": {},
     "output_type": "display_data"
    }
   ],
   "source": [
    "#Problem 11\n",
    "answer = (4 * 5) / (7 + 3)\n",
    "display(Math('\\\\frac{(4 \\\\times 5)}{(7 + 3)} = %g' %(answer)))"
   ]
  },
  {
   "cell_type": "code",
   "execution_count": 65,
   "id": "3dcba885",
   "metadata": {},
   "outputs": [
    {
     "data": {
      "text/latex": [
       "$\\displaystyle \\frac{9}{(3 + 6)} - 1 = 0$"
      ],
      "text/plain": [
       "<IPython.core.display.Math object>"
      ]
     },
     "metadata": {},
     "output_type": "display_data"
    }
   ],
   "source": [
    "#Problem 12\n",
    "answer =9 / (3 + 6) - 1\n",
    "display(Math('\\\\frac{9}{(3 + 6)} - 1 = %g' %(answer)))"
   ]
  },
  {
   "cell_type": "code",
   "execution_count": 70,
   "id": "d04deff9",
   "metadata": {},
   "outputs": [
    {
     "name": "stdout",
     "output_type": "stream",
     "text": [
      "True\n",
      "False\n",
      "False\n"
     ]
    }
   ],
   "source": [
    "#Problem 13\n",
    "x = 2\n",
    "print(4*x + 3 < 17 - x**2)\n",
    "x = 3\n",
    "print(4*x + 3 < 17 - x**2)\n",
    "x = 4\n",
    "print(4*x + 3 < 17 - x**2)"
   ]
  },
  {
   "cell_type": "code",
   "execution_count": 73,
   "id": "adc92bf6",
   "metadata": {},
   "outputs": [
    {
     "name": "stdout",
     "output_type": "stream",
     "text": [
      "True\n",
      "True\n",
      "True\n"
     ]
    }
   ],
   "source": [
    "#Problem 14\n",
    "x = 2\n",
    "print(8*x - 2 <= -3*x + 42)\n",
    "x = 3\n",
    "print(8*x - 2 <= -3*x + 42)\n",
    "x = 4\n",
    "print(8*x - 2 <= -3*x + 42)"
   ]
  },
  {
   "cell_type": "code",
   "execution_count": 76,
   "id": "fafdb802",
   "metadata": {},
   "outputs": [
    {
     "name": "stdout",
     "output_type": "stream",
     "text": [
      "Incorrect\n"
     ]
    }
   ],
   "source": [
    "if 4 + 2 == 7:\n",
    "    print('Correct')\n",
    "else:\n",
    "    print('Incorrect')"
   ]
  },
  {
   "cell_type": "code",
   "execution_count": 85,
   "id": "687d4354",
   "metadata": {},
   "outputs": [
    {
     "data": {
      "text/latex": [
       "$\\displaystyle 1^{-1} = 1$"
      ],
      "text/plain": [
       "<IPython.core.display.Math object>"
      ]
     },
     "metadata": {},
     "output_type": "display_data"
    },
    {
     "data": {
      "text/latex": [
       "$\\displaystyle 1^{-2} = 1$"
      ],
      "text/plain": [
       "<IPython.core.display.Math object>"
      ]
     },
     "metadata": {},
     "output_type": "display_data"
    },
    {
     "data": {
      "text/latex": [
       "$\\displaystyle 1^{-3} = 1$"
      ],
      "text/plain": [
       "<IPython.core.display.Math object>"
      ]
     },
     "metadata": {},
     "output_type": "display_data"
    },
    {
     "data": {
      "text/latex": [
       "$\\displaystyle 1^{-4} = 1$"
      ],
      "text/plain": [
       "<IPython.core.display.Math object>"
      ]
     },
     "metadata": {},
     "output_type": "display_data"
    },
    {
     "data": {
      "text/latex": [
       "$\\displaystyle 2^{-1} = 0.5$"
      ],
      "text/plain": [
       "<IPython.core.display.Math object>"
      ]
     },
     "metadata": {},
     "output_type": "display_data"
    },
    {
     "data": {
      "text/latex": [
       "$\\displaystyle 2^{-2} = 0.25$"
      ],
      "text/plain": [
       "<IPython.core.display.Math object>"
      ]
     },
     "metadata": {},
     "output_type": "display_data"
    },
    {
     "data": {
      "text/latex": [
       "$\\displaystyle 2^{-3} = 0.125$"
      ],
      "text/plain": [
       "<IPython.core.display.Math object>"
      ]
     },
     "metadata": {},
     "output_type": "display_data"
    },
    {
     "data": {
      "text/latex": [
       "$\\displaystyle 2^{-4} = 0.0625$"
      ],
      "text/plain": [
       "<IPython.core.display.Math object>"
      ]
     },
     "metadata": {},
     "output_type": "display_data"
    },
    {
     "data": {
      "text/latex": [
       "$\\displaystyle 3^{-1} = 0.333333$"
      ],
      "text/plain": [
       "<IPython.core.display.Math object>"
      ]
     },
     "metadata": {},
     "output_type": "display_data"
    },
    {
     "data": {
      "text/latex": [
       "$\\displaystyle 3^{-2} = 0.111111$"
      ],
      "text/plain": [
       "<IPython.core.display.Math object>"
      ]
     },
     "metadata": {},
     "output_type": "display_data"
    },
    {
     "data": {
      "text/latex": [
       "$\\displaystyle 3^{-3} = 0.037037$"
      ],
      "text/plain": [
       "<IPython.core.display.Math object>"
      ]
     },
     "metadata": {},
     "output_type": "display_data"
    },
    {
     "data": {
      "text/latex": [
       "$\\displaystyle 3^{-4} = 0.0123457$"
      ],
      "text/plain": [
       "<IPython.core.display.Math object>"
      ]
     },
     "metadata": {},
     "output_type": "display_data"
    }
   ],
   "source": [
    "#Problem 15\n",
    "for i in range(0,4):\n",
    "    for j in range (0,5):\n",
    "        if i > 0 and j > 0:\n",
    "            answer = i**(-j)\n",
    "            display(Math('%g^{-%g} = %g' %(i,j,answer)))"
   ]
  },
  {
   "cell_type": "code",
   "execution_count": 93,
   "id": "8dead7f2",
   "metadata": {},
   "outputs": [
    {
     "data": {
      "text/latex": [
       "$\\displaystyle |-88| = 88$"
      ],
      "text/plain": [
       "<IPython.core.display.Math object>"
      ]
     },
     "metadata": {},
     "output_type": "display_data"
    }
   ],
   "source": [
    "y = -88\n",
    "x = abs(y)\n",
    "display(Math('|%g| = %g' %(y,x)))"
   ]
  },
  {
   "cell_type": "code",
   "execution_count": 103,
   "id": "c3aec909",
   "metadata": {},
   "outputs": [
    {
     "name": "stdout",
     "output_type": "stream",
     "text": [
      "-4 was not defined\n",
      "The absolute value of 6 is 6\n",
      "-1 was not defined\n",
      "The absolute value of 43 is 43\n",
      "The absolute value of -18 is 18\n",
      "2 was not defined\n",
      "0 was not defined\n"
     ]
    }
   ],
   "source": [
    "#Problem 16\n",
    "#Print the absolute value of each os a set of numbers only if each number is less than -5 or greater than 2\n",
    "#Number set: -4, 6, -1, 43, -18, 2, 0\n",
    "for i in [-4, 6, -1, 43, -18, 2, 0]:\n",
    "    if i < -5 or i > 2:\n",
    "        print('The absolute value of %g is %g' %(i, abs(i)))\n",
    "    else:\n",
    "        print(str(i) + ' was not defined')\n"
   ]
  },
  {
   "cell_type": "code",
   "execution_count": 106,
   "id": "98a5a2cd",
   "metadata": {},
   "outputs": [
    {
     "data": {
      "text/plain": [
       "3"
      ]
     },
     "execution_count": 106,
     "metadata": {},
     "output_type": "execute_result"
    }
   ],
   "source": [
    "x = 10/3\n",
    "int(x)"
   ]
  },
  {
   "cell_type": "code",
   "execution_count": 110,
   "id": "6e36477a",
   "metadata": {},
   "outputs": [
    {
     "name": "stdout",
     "output_type": "stream",
     "text": [
      "10099 divided by 4 is 2524, with a remainder of 3\n"
     ]
    }
   ],
   "source": [
    "#Variables\n",
    "a = 10099\n",
    "b = 4\n",
    "div = int(a/b)\n",
    "mod = a%b\n",
    "\n",
    "#Output\n",
    "print('%g divided by %g is %g, with a remainder of %g' %(a, b, div, mod))"
   ]
  },
  {
   "cell_type": "code",
   "execution_count": 133,
   "id": "3d485e5f",
   "metadata": {
    "scrolled": true
   },
   "outputs": [
    {
     "ename": "TypeError",
     "evalue": "'list' object is not callable",
     "output_type": "error",
     "traceback": [
      "\u001b[1;31m---------------------------------------------------------------------------\u001b[0m",
      "\u001b[1;31mTypeError\u001b[0m                                 Traceback (most recent call last)",
      "Input \u001b[1;32mIn [133]\u001b[0m, in \u001b[0;36m<cell line: 3>\u001b[1;34m()\u001b[0m\n\u001b[0;32m      1\u001b[0m \u001b[38;5;66;03m#Problem 17\u001b[39;00m\n\u001b[0;32m      2\u001b[0m n \u001b[38;5;241m=\u001b[39m \u001b[38;5;241m5\u001b[39m\n\u001b[1;32m----> 3\u001b[0m \u001b[38;5;28;01mfor\u001b[39;00m i \u001b[38;5;129;01min\u001b[39;00m \u001b[38;5;28;43mrange\u001b[39;49m\u001b[43m(\u001b[49m\u001b[38;5;241;43m-\u001b[39;49m\u001b[43mn\u001b[49m\u001b[43m,\u001b[49m\u001b[43mn\u001b[49m\u001b[38;5;241;43m+\u001b[39;49m\u001b[38;5;241;43m1\u001b[39;49m\u001b[43m)\u001b[49m:\n\u001b[0;32m      4\u001b[0m     \u001b[38;5;28;01mif\u001b[39;00m i \u001b[38;5;241m%\u001b[39m \u001b[38;5;241m2\u001b[39m \u001b[38;5;241m==\u001b[39m \u001b[38;5;241m0\u001b[39m:\n\u001b[0;32m      5\u001b[0m         \u001b[38;5;28mprint\u001b[39m(\u001b[38;5;124m'\u001b[39m\u001b[38;5;132;01m%g\u001b[39;00m\u001b[38;5;124m is even\u001b[39m\u001b[38;5;124m'\u001b[39m \u001b[38;5;241m%\u001b[39m(i))\n",
      "\u001b[1;31mTypeError\u001b[0m: 'list' object is not callable"
     ]
    }
   ],
   "source": [
    "#Problem 17\n",
    "n = 5\n",
    "for i in range(-n,n+1):\n",
    "    if i % 2 == 0:\n",
    "        print('%g is even' %(i))\n",
    "    else:\n",
    "        print('%g is odd' %(i))"
   ]
  },
  {
   "cell_type": "code",
   "execution_count": 144,
   "id": "771aed96",
   "metadata": {},
   "outputs": [
    {
     "name": "stdout",
     "output_type": "stream",
     "text": [
      "10 divided by 2 is 5, with a remainder of 0\n",
      "None\n",
      "20 divided by 5 is 4, with a remainder of 0\n"
     ]
    }
   ],
   "source": [
    "#Function creation\n",
    "def computeremainder(x,y):\n",
    "    div = int(x/y)\n",
    "    mod = x%y\n",
    "    \n",
    "    print('%g divided by %g is %g, with a remainder of %g' %(x, y, div, mod))\n",
    "\n",
    "(computeremainder(20,5))"
   ]
  },
  {
   "cell_type": "code",
   "execution_count": 152,
   "id": "59cbcacb",
   "metadata": {},
   "outputs": [
    {
     "name": "stdout",
     "output_type": "stream",
     "text": [
      "Enter a divdend: 20\n",
      "Enter a divisor: 4\n",
      "20 divided by 4 is 5, with a remainder of 0\n"
     ]
    }
   ],
   "source": [
    "#Function with user input\n",
    "def remainderUserInput():\n",
    "    #Taking user input\n",
    "    a = int(input('Enter a divdend: '))\n",
    "    b = int(input('Enter a divisor: '))\n",
    "    div = int(a/b)\n",
    "    mod = a%b\n",
    "    \n",
    "    print('%g divided by %g is %g, with a remainder of %g' %(a, b, div, mod))\n",
    "    \n",
    "remainderUserInput()"
   ]
  },
  {
   "cell_type": "code",
   "execution_count": 5,
   "id": "9e059328",
   "metadata": {},
   "outputs": [
    {
     "name": "stdout",
     "output_type": "stream",
     "text": [
      "Enter a value for variable x: 20\n",
      "Enter a value for variable y: 2\n"
     ]
    },
    {
     "data": {
      "text/latex": [
       "$\\displaystyle Press 1 to compute 20^{2} or 2 to compute \\frac{20}{2}$"
      ],
      "text/plain": [
       "<IPython.core.display.Math object>"
      ]
     },
     "metadata": {},
     "output_type": "display_data"
    },
    {
     "name": "stdout",
     "output_type": "stream",
     "text": [
      "None1\n"
     ]
    },
    {
     "ename": "NameError",
     "evalue": "name 'x' is not defined",
     "output_type": "error",
     "traceback": [
      "\u001b[1;31m---------------------------------------------------------------------------\u001b[0m",
      "\u001b[1;31mNameError\u001b[0m                                 Traceback (most recent call last)",
      "Input \u001b[1;32mIn [5]\u001b[0m, in \u001b[0;36m<cell line: 27>\u001b[1;34m()\u001b[0m\n\u001b[0;32m     24\u001b[0m     \u001b[38;5;28;01melse\u001b[39;00m:\n\u001b[0;32m     25\u001b[0m         \u001b[38;5;28mprint\u001b[39m(\u001b[38;5;124m'\u001b[39m\u001b[38;5;124mInvalid selection\u001b[39m\u001b[38;5;124m'\u001b[39m)\n\u001b[1;32m---> 27\u001b[0m \u001b[43mselection\u001b[49m\u001b[43m(\u001b[49m\u001b[43m)\u001b[49m\n",
      "Input \u001b[1;32mIn [5]\u001b[0m, in \u001b[0;36mselection\u001b[1;34m()\u001b[0m\n\u001b[0;32m     17\u001b[0m     x \u001b[38;5;241m=\u001b[39m x\n\u001b[0;32m     18\u001b[0m     y \u001b[38;5;241m=\u001b[39m y\n\u001b[1;32m---> 19\u001b[0m     \u001b[43mxtoy\u001b[49m\u001b[43m(\u001b[49m\u001b[43m)\u001b[49m\n\u001b[0;32m     20\u001b[0m \u001b[38;5;28;01melif\u001b[39;00m opt \u001b[38;5;241m==\u001b[39m \u001b[38;5;241m2\u001b[39m:\n\u001b[0;32m     21\u001b[0m     x \u001b[38;5;241m=\u001b[39m x\n",
      "Input \u001b[1;32mIn [5]\u001b[0m, in \u001b[0;36mxtoy\u001b[1;34m()\u001b[0m\n\u001b[0;32m      3\u001b[0m \u001b[38;5;28;01mdef\u001b[39;00m \u001b[38;5;21mxtoy\u001b[39m():\n\u001b[1;32m----> 4\u001b[0m     answer \u001b[38;5;241m=\u001b[39m \u001b[43mx\u001b[49m\u001b[38;5;241m*\u001b[39m\u001b[38;5;241m*\u001b[39my\n\u001b[0;32m      5\u001b[0m     display(Math(\u001b[38;5;124m'\u001b[39m\u001b[38;5;132;01m%g\u001b[39;00m\u001b[38;5;124m^\u001b[39m\u001b[38;5;124m{\u001b[39m\u001b[38;5;132;01m%g\u001b[39;00m\u001b[38;5;124m} = \u001b[39m\u001b[38;5;132;01m%g\u001b[39;00m\u001b[38;5;124m'\u001b[39m \u001b[38;5;241m%\u001b[39m(x,y,answer)))\n",
      "\u001b[1;31mNameError\u001b[0m: name 'x' is not defined"
     ]
    }
   ],
   "source": [
    "#Problem 18\n",
    "#Function 1, to find x to the power of y\n",
    "def xtoy():\n",
    "    answer = x**y\n",
    "    display(Math('%g^{%g} = %g' %(x,y,answer)))\n",
    "#Function 2, to find x divided by y\n",
    "def xovery():\n",
    "    answer = x/y\n",
    "    display(Math('\\\\frac{%g}{%g} = %g' %(x,y,answer)))\n",
    "#Dunction 3, combining and adding a switch case\n",
    "def selection():\n",
    "    x = int(input('Enter a value for variable x: '))\n",
    "    y = int(input('Enter a value for variable y: '))\n",
    "    opt = int(input(display(Math('Press 1 to compute %g^{%g} or 2 to compute \\\\frac{%g}{%g}' %(x,y,x,y)))))\n",
    "    #If statement based on user selection\n",
    "    if opt == 1:\n",
    "        xtoy()\n",
    "    elif opt == 2:\n",
    "        xovery()\n",
    "    else:\n",
    "        print('Invalid selection')\n",
    "\n",
    "selection()"
   ]
  },
  {
   "cell_type": "code",
   "execution_count": null,
   "id": "6b8bc02e",
   "metadata": {},
   "outputs": [],
   "source": []
  }
 ],
 "metadata": {
  "kernelspec": {
   "display_name": "Python 3 (ipykernel)",
   "language": "python",
   "name": "python3"
  },
  "language_info": {
   "codemirror_mode": {
    "name": "ipython",
    "version": 3
   },
   "file_extension": ".py",
   "mimetype": "text/x-python",
   "name": "python",
   "nbconvert_exporter": "python",
   "pygments_lexer": "ipython3",
   "version": "3.9.12"
  }
 },
 "nbformat": 4,
 "nbformat_minor": 5
}
